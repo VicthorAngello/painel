{
 "cells": [
  {
   "cell_type": "code",
   "execution_count": null,
   "metadata": {},
   "outputs": [],
   "source": [
    "import pandas as pd\n",
    "import os, fnmatch\n",
    "from datetime import date\n",
    "import warnings\n",
    "import numpy as np"
   ]
  },
  {
   "cell_type": "code",
   "execution_count": null,
   "metadata": {},
   "outputs": [],
   "source": [
    "warnings.filterwarnings('ignore')\n",
    "pd.options.display.max_rows = 100000\n",
    "pd.options.display.max_columns = 1000000"
   ]
  },
  {
   "cell_type": "markdown",
   "metadata": {},
   "source": [
    "# Criando Funcoes"
   ]
  },
  {
   "cell_type": "code",
   "execution_count": null,
   "metadata": {},
   "outputs": [],
   "source": [
    "def import_base(path, name, sheet = 0):\n",
    "    os.chdir(path)\n",
    "    xlsx_files = fnmatch.filter(os.listdir(path), '*' + name + '*.xlsx')\n",
    "    dfbc = [pd.read_excel(xlsx_file, sheet_name=sheet) for xlsx_file in xlsx_files]\n",
    "    base = pd.concat(dfbc, sort=False)\n",
    "    return base"
   ]
  },
  {
   "cell_type": "markdown",
   "metadata": {},
   "source": [
    "# Importando Bases"
   ]
  },
  {
   "cell_type": "code",
   "execution_count": null,
   "metadata": {},
   "outputs": [],
   "source": [
    "#Movimentacao KMM\n",
    "base_mov = pd.read_excel('f1858c78-f285-490f-8b5f-46bea0b576e8.xlsx')"
   ]
  },
  {
   "cell_type": "code",
   "execution_count": null,
   "metadata": {},
   "outputs": [],
   "source": [
    "base_mov['CLIENTE'] = [x.split(' ')[0] for x in base_mov['CLIENTE']]"
   ]
  },
  {
   "cell_type": "code",
   "execution_count": null,
   "metadata": {},
   "outputs": [],
   "source": [
    "#Movimentacao SADE\n",
    "base_sade = import_base('/home/victhor/Projetos_Python/Painel', 'SANTOS', 'BASE SADE')"
   ]
  },
  {
   "cell_type": "markdown",
   "metadata": {},
   "source": [
    "# Separacao pelo TIPO MOVIMENTACAO"
   ]
  },
  {
   "cell_type": "code",
   "execution_count": null,
   "metadata": {},
   "outputs": [],
   "source": [
    "base_entrada = base_mov.query('`TIPO MOVIMENTAÇÃO` == \"1. (+) Entrada Rodoviaria\"')"
   ]
  },
  {
   "cell_type": "code",
   "execution_count": null,
   "metadata": {},
   "outputs": [],
   "source": [
    "base_saida = base_mov.query('`TIPO MOVIMENTAÇÃO` == \"4. (-) Expedido Ferrovia\"')"
   ]
  },
  {
   "cell_type": "markdown",
   "metadata": {},
   "source": [
    "# Tratando base_saida - REFATORAR - Agrupar pelo registros igual a SADE"
   ]
  },
  {
   "cell_type": "code",
   "execution_count": null,
   "metadata": {},
   "outputs": [],
   "source": [
    "base_saida['DATA MOVIMENTAÇÃO'] = pd.to_datetime(base_saida['DATA MOVIMENTAÇÃO'])"
   ]
  },
  {
   "cell_type": "code",
   "execution_count": null,
   "metadata": {},
   "outputs": [],
   "source": [
    "base_saida['DATA CARREGAMENTO'] = pd.to_datetime(base_saida['DATA CARREGAMENTO'])"
   ]
  },
  {
   "cell_type": "code",
   "execution_count": null,
   "metadata": {},
   "outputs": [],
   "source": [
    "base_saida_agrupado = base_saida.groupby([\n",
    "                                pd.to_datetime(base_saida['DATA MOVIMENTAÇÃO'].dt.strftime(\"%Y-%m-%d\")),\n",
    "                                'DATA MOVIMENTAÇÃO',\n",
    "                                'PLACA',\n",
    "                                'CONTRATO',\n",
    "                                'CLIENTE',\n",
    "                                'ORIGEM FISCAL', \n",
    "                                'ORIGEM FÍSICA',\n",
    "                                'PROPRIETÁRIO',\n",
    "                                'DATA FATURAMENTO', \n",
    "                                'DATA CARREGAMENTO', \n",
    "                                'TERMINAL DESTINO',\n",
    "                                'PRODUTO'\n",
    "                                    ], as_index=False).agg({\n",
    "                                    'NOTA FISCAL': ' / '.join,\n",
    "                                    'PESO DECLARADO':'sum', \n",
    "                                    'PESO RECEBIDO':'sum',\n",
    "                                    'PESO SELECIONADO':'sum'\n",
    "                                })"
   ]
  },
  {
   "cell_type": "code",
   "execution_count": null,
   "metadata": {},
   "outputs": [],
   "source": [
    "base_saida_agrupado['PLACA'] = base_saida_agrupado['PLACA'].str.replace(r'\\D', '').replace('', float('NaN'))\n",
    "base_saida_agrupado.dropna(subset=['PLACA'], inplace=True)\n",
    "base_saida_agrupado['PLACA'] = base_saida_agrupado['PLACA'].astype('int64')"
   ]
  },
  {
   "cell_type": "markdown",
   "metadata": {},
   "source": [
    "# Tratando base_sade"
   ]
  },
  {
   "cell_type": "code",
   "execution_count": null,
   "metadata": {},
   "outputs": [],
   "source": [
    "base_sade['CARGA'] = pd.to_datetime(base_sade['CARGA'])\n",
    "base_sade['PESO'] = base_sade['PESO'].round(3)"
   ]
  },
  {
   "cell_type": "code",
   "execution_count": null,
   "metadata": {},
   "outputs": [],
   "source": [
    "base_sade['CARGA'] = pd.to_datetime(base_sade['CARGA'])"
   ]
  },
  {
   "cell_type": "markdown",
   "metadata": {},
   "source": [
    "# MERGE base_sade x base_saida"
   ]
  },
  {
   "cell_type": "code",
   "execution_count": null,
   "metadata": {},
   "outputs": [],
   "source": [
    "base_sade.sort_values(by='CARGA', inplace=True)\n",
    "base_saida_agrupado.sort_values(by='DATA CARREGAMENTO', inplace=True)"
   ]
  },
  {
   "cell_type": "code",
   "execution_count": null,
   "metadata": {},
   "outputs": [],
   "source": [
    "print(base_sade.CARGA.dtype)\n",
    "print(base_saida_agrupado['DATA CARREGAMENTO'].dtype)"
   ]
  },
  {
   "cell_type": "code",
   "execution_count": null,
   "metadata": {},
   "outputs": [],
   "source": [
    "base_saida_conciliada = pd.merge_asof(base_saida_agrupado, \n",
    "                                        base_sade[[\n",
    "                                                'COD_VAGÃO', \n",
    "                                                'COD_EST_CARGA',\n",
    "                                                'MERCADORIA',\n",
    "                                                'CLIENTE_CORRENTISTA', \n",
    "                                                'CARGA', \n",
    "                                                'DESCARGA', \n",
    "                                                'PESO',\n",
    "                                                'TERMINAL', \n",
    "                                                'PESO DESTINO',\n",
    "                                                'CONCILIADO CLIENTE?'\n",
    "                                                ]],  \n",
    "                                    left_on = 'DATA CARREGAMENTO',\n",
    "                                    right_on = 'CARGA',\n",
    "                                    left_by = ['ORIGEM FISCAL', 'PLACA', 'PESO SELECIONADO'],\n",
    "                                    right_by = ['COD_EST_CARGA', 'COD_VAGÃO', 'PESO'],\n",
    "                                    allow_exact_matches = True,\n",
    "                                    direction = 'nearest',\n",
    "                                    tolerance = pd.Timedelta(\"10 days\"))"
   ]
  },
  {
   "cell_type": "code",
   "execution_count": null,
   "metadata": {},
   "outputs": [],
   "source": [
    "base_saida_conciliada[base_saida_conciliada['PESO DESTINO'] != type(float)]"
   ]
  },
  {
   "cell_type": "code",
   "execution_count": null,
   "metadata": {},
   "outputs": [],
   "source": [
    "base"
   ]
  }
 ],
 "metadata": {
  "interpreter": {
   "hash": "9d1226659346b4e91fd9c6aa839a7ec8baae499fcd339d3637f5251f3f591ef0"
  },
  "kernelspec": {
   "display_name": "Python 3.8.8 64-bit ('base': conda)",
   "language": "python",
   "name": "python3"
  },
  "language_info": {
   "codemirror_mode": {
    "name": "ipython",
    "version": 3
   },
   "file_extension": ".py",
   "mimetype": "text/x-python",
   "name": "python",
   "nbconvert_exporter": "python",
   "pygments_lexer": "ipython3",
   "version": "3.8.8"
  },
  "orig_nbformat": 4
 },
 "nbformat": 4,
 "nbformat_minor": 2
}
